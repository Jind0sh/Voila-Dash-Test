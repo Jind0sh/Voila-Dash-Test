{
 "metadata": {
  "language_info": {
   "codemirror_mode": {
    "name": "ipython",
    "version": 3
   },
   "file_extension": ".py",
   "mimetype": "text/x-python",
   "name": "python",
   "nbconvert_exporter": "python",
   "pygments_lexer": "ipython3",
   "version": "3.10.1-final"
  },
  "orig_nbformat": 2,
  "kernelspec": {
   "name": "python3",
   "display_name": "Python 3.10.1 64-bit",
   "metadata": {
    "interpreter": {
     "hash": "bfb4883d108fc92ac768439090a2e92bb9a1f760a54beeecfd6762b5dcd70fe3"
    }
   }
  }
 },
 "nbformat": 4,
 "nbformat_minor": 2,
 "cells": [
  {
   "source": [
    "# Reddit \"COVID\" Monitoring Dashboard\n",
    "Testing Jupyter Notebook deployment to Heroku using Voila.\n",
    "\n",
    "*Yose Marthin Giyay*"
   ],
   "cell_type": "markdown",
   "metadata": {}
  },
  {
   "cell_type": "code",
   "execution_count": 31,
   "metadata": {},
   "outputs": [
    {
     "output_type": "stream",
     "name": "stderr",
     "text": [
      "[nltk_data] Downloading package punkt to\n[nltk_data]     C:\\Users\\Admin\\AppData\\Roaming\\nltk_data...\n[nltk_data]   Package punkt is already up-to-date!\n"
     ]
    }
   ],
   "source": [
    "# import libraries\n",
    "\n",
    "import requests\n",
    "import pandas\n",
    "import textblob\n",
    "import plotly.express as px\n",
    "import nbformat\n",
    "import nltk\n",
    "nltk.download('punkt')\n",
    "pandas.set_option('display.max_colwidth', None) # don't cut my pandas dataframes\n",
    "import plotly.io as pio\n"
   ]
  },
  {
   "cell_type": "code",
   "execution_count": 32,
   "metadata": {},
   "outputs": [],
   "source": [
    "# define variables\n",
    "\n",
    "COMMENT_COLOR         = \"blueviolet\"\n",
    "SUBMISSION_COLOR      = \"darkorange\"\n",
    "TEXT_PREVIEW_SIZE     = 240\n",
    "TERM_OF_INTEREST      = \"covid\"\n",
    "SUBREDDIT_OF_INTEREST = \"covid\"\n",
    "TIMEFRAME             = \"48h\" # see more options in the pushshift api docs: https://github.com/pushshift/api\n",
    "SIZE                  = 500 #no of records to return"
   ]
  },
  {
   "cell_type": "code",
   "execution_count": 33,
   "metadata": {},
   "outputs": [],
   "source": [
    "def get_reddit_data(data_type, **kwargs):\n",
    "    \"\"\"\n",
    "    Gets data from the pushshift api and returns it as json.\n",
    "\n",
    "    data_type can be 'comment' or 'submission'\n",
    "    The rest of the args are interpreted as payload.\n",
    "    Read more: https://github.com/pushshift/api\n",
    "    \"\"\"\n",
    "\n",
    "    base_url = f\"https://api.pushshift.io/reddit/search/{data_type}/\"\n",
    "    payload = kwargs\n",
    "    request = requests.get(base_url, params=payload)\n",
    "    return request.json()\n",
    "    \n",
    "\n",
    "def make_clickable(val):\n",
    "    \"\"\"\n",
    "    Makes a pandas column clickable.\n",
    "    \"\"\"\n",
    "    \n",
    "    return '<a href=\"{}\">Link</a>'.format(val)"
   ]
  },
  {
   "cell_type": "code",
   "execution_count": 34,
   "metadata": {},
   "outputs": [
    {
     "output_type": "display_data",
     "data": {
      "application/vnd.plotly.v1+json": {
       "data": [
        {
         "alignmentgroup": "True",
         "hovertemplate": "index=%{x}<br># comments=%{y}<extra></extra>",
         "legendgroup": "",
         "marker": {
          "color": "blueviolet",
          "pattern": {
           "shape": ""
          }
         },
         "name": "",
         "offsetgroup": "",
         "orientation": "v",
         "showlegend": false,
         "textposition": "auto",
         "x": [
          "news_italia",
          "conspiracy",
          "ChunghwaMinkuo",
          "TrueOffMyChest",
          "Coronavirus",
          "cofounder",
          "intj",
          "SickOfUSPolitics",
          "coronavirusVA",
          "ravens"
         ],
         "xaxis": "x",
         "y": [
          3,
          2,
          2,
          2,
          2,
          1,
          1,
          1,
          1,
          1
         ],
         "yaxis": "y",
         "type": "bar"
        }
       ],
       "layout": {
        "template": {
         "data": {
          "barpolar": [
           {
            "marker": {
             "line": {
              "color": "rgb(17,17,17)",
              "width": 0.5
             },
             "pattern": {
              "fillmode": "overlay",
              "size": 10,
              "solidity": 0.2
             }
            },
            "type": "barpolar"
           }
          ],
          "bar": [
           {
            "error_x": {
             "color": "#f2f5fa"
            },
            "error_y": {
             "color": "#f2f5fa"
            },
            "marker": {
             "line": {
              "color": "rgb(17,17,17)",
              "width": 0.5
             },
             "pattern": {
              "fillmode": "overlay",
              "size": 10,
              "solidity": 0.2
             }
            },
            "type": "bar"
           }
          ],
          "carpet": [
           {
            "aaxis": {
             "endlinecolor": "#A2B1C6",
             "gridcolor": "#506784",
             "linecolor": "#506784",
             "minorgridcolor": "#506784",
             "startlinecolor": "#A2B1C6"
            },
            "baxis": {
             "endlinecolor": "#A2B1C6",
             "gridcolor": "#506784",
             "linecolor": "#506784",
             "minorgridcolor": "#506784",
             "startlinecolor": "#A2B1C6"
            },
            "type": "carpet"
           }
          ],
          "choropleth": [
           {
            "colorbar": {
             "outlinewidth": 0,
             "ticks": ""
            },
            "type": "choropleth"
           }
          ],
          "contourcarpet": [
           {
            "colorbar": {
             "outlinewidth": 0,
             "ticks": ""
            },
            "type": "contourcarpet"
           }
          ],
          "contour": [
           {
            "colorbar": {
             "outlinewidth": 0,
             "ticks": ""
            },
            "colorscale": [
             [
              0,
              "#0d0887"
             ],
             [
              0.1111111111111111,
              "#46039f"
             ],
             [
              0.2222222222222222,
              "#7201a8"
             ],
             [
              0.3333333333333333,
              "#9c179e"
             ],
             [
              0.4444444444444444,
              "#bd3786"
             ],
             [
              0.5555555555555556,
              "#d8576b"
             ],
             [
              0.6666666666666666,
              "#ed7953"
             ],
             [
              0.7777777777777778,
              "#fb9f3a"
             ],
             [
              0.8888888888888888,
              "#fdca26"
             ],
             [
              1,
              "#f0f921"
             ]
            ],
            "type": "contour"
           }
          ],
          "heatmapgl": [
           {
            "colorbar": {
             "outlinewidth": 0,
             "ticks": ""
            },
            "colorscale": [
             [
              0,
              "#0d0887"
             ],
             [
              0.1111111111111111,
              "#46039f"
             ],
             [
              0.2222222222222222,
              "#7201a8"
             ],
             [
              0.3333333333333333,
              "#9c179e"
             ],
             [
              0.4444444444444444,
              "#bd3786"
             ],
             [
              0.5555555555555556,
              "#d8576b"
             ],
             [
              0.6666666666666666,
              "#ed7953"
             ],
             [
              0.7777777777777778,
              "#fb9f3a"
             ],
             [
              0.8888888888888888,
              "#fdca26"
             ],
             [
              1,
              "#f0f921"
             ]
            ],
            "type": "heatmapgl"
           }
          ],
          "heatmap": [
           {
            "colorbar": {
             "outlinewidth": 0,
             "ticks": ""
            },
            "colorscale": [
             [
              0,
              "#0d0887"
             ],
             [
              0.1111111111111111,
              "#46039f"
             ],
             [
              0.2222222222222222,
              "#7201a8"
             ],
             [
              0.3333333333333333,
              "#9c179e"
             ],
             [
              0.4444444444444444,
              "#bd3786"
             ],
             [
              0.5555555555555556,
              "#d8576b"
             ],
             [
              0.6666666666666666,
              "#ed7953"
             ],
             [
              0.7777777777777778,
              "#fb9f3a"
             ],
             [
              0.8888888888888888,
              "#fdca26"
             ],
             [
              1,
              "#f0f921"
             ]
            ],
            "type": "heatmap"
           }
          ],
          "histogram2dcontour": [
           {
            "colorbar": {
             "outlinewidth": 0,
             "ticks": ""
            },
            "colorscale": [
             [
              0,
              "#0d0887"
             ],
             [
              0.1111111111111111,
              "#46039f"
             ],
             [
              0.2222222222222222,
              "#7201a8"
             ],
             [
              0.3333333333333333,
              "#9c179e"
             ],
             [
              0.4444444444444444,
              "#bd3786"
             ],
             [
              0.5555555555555556,
              "#d8576b"
             ],
             [
              0.6666666666666666,
              "#ed7953"
             ],
             [
              0.7777777777777778,
              "#fb9f3a"
             ],
             [
              0.8888888888888888,
              "#fdca26"
             ],
             [
              1,
              "#f0f921"
             ]
            ],
            "type": "histogram2dcontour"
           }
          ],
          "histogram2d": [
           {
            "colorbar": {
             "outlinewidth": 0,
             "ticks": ""
            },
            "colorscale": [
             [
              0,
              "#0d0887"
             ],
             [
              0.1111111111111111,
              "#46039f"
             ],
             [
              0.2222222222222222,
              "#7201a8"
             ],
             [
              0.3333333333333333,
              "#9c179e"
             ],
             [
              0.4444444444444444,
              "#bd3786"
             ],
             [
              0.5555555555555556,
              "#d8576b"
             ],
             [
              0.6666666666666666,
              "#ed7953"
             ],
             [
              0.7777777777777778,
              "#fb9f3a"
             ],
             [
              0.8888888888888888,
              "#fdca26"
             ],
             [
              1,
              "#f0f921"
             ]
            ],
            "type": "histogram2d"
           }
          ],
          "histogram": [
           {
            "marker": {
             "pattern": {
              "fillmode": "overlay",
              "size": 10,
              "solidity": 0.2
             }
            },
            "type": "histogram"
           }
          ],
          "mesh3d": [
           {
            "colorbar": {
             "outlinewidth": 0,
             "ticks": ""
            },
            "type": "mesh3d"
           }
          ],
          "parcoords": [
           {
            "line": {
             "colorbar": {
              "outlinewidth": 0,
              "ticks": ""
             }
            },
            "type": "parcoords"
           }
          ],
          "pie": [
           {
            "automargin": true,
            "type": "pie"
           }
          ],
          "scatter3d": [
           {
            "line": {
             "colorbar": {
              "outlinewidth": 0,
              "ticks": ""
             }
            },
            "marker": {
             "colorbar": {
              "outlinewidth": 0,
              "ticks": ""
             }
            },
            "type": "scatter3d"
           }
          ],
          "scattercarpet": [
           {
            "marker": {
             "colorbar": {
              "outlinewidth": 0,
              "ticks": ""
             }
            },
            "type": "scattercarpet"
           }
          ],
          "scattergeo": [
           {
            "marker": {
             "colorbar": {
              "outlinewidth": 0,
              "ticks": ""
             }
            },
            "type": "scattergeo"
           }
          ],
          "scattergl": [
           {
            "marker": {
             "line": {
              "color": "#283442"
             }
            },
            "type": "scattergl"
           }
          ],
          "scattermapbox": [
           {
            "marker": {
             "colorbar": {
              "outlinewidth": 0,
              "ticks": ""
             }
            },
            "type": "scattermapbox"
           }
          ],
          "scatterpolargl": [
           {
            "marker": {
             "colorbar": {
              "outlinewidth": 0,
              "ticks": ""
             }
            },
            "type": "scatterpolargl"
           }
          ],
          "scatterpolar": [
           {
            "marker": {
             "colorbar": {
              "outlinewidth": 0,
              "ticks": ""
             }
            },
            "type": "scatterpolar"
           }
          ],
          "scatter": [
           {
            "marker": {
             "line": {
              "color": "#283442"
             }
            },
            "type": "scatter"
           }
          ],
          "scatterternary": [
           {
            "marker": {
             "colorbar": {
              "outlinewidth": 0,
              "ticks": ""
             }
            },
            "type": "scatterternary"
           }
          ],
          "surface": [
           {
            "colorbar": {
             "outlinewidth": 0,
             "ticks": ""
            },
            "colorscale": [
             [
              0,
              "#0d0887"
             ],
             [
              0.1111111111111111,
              "#46039f"
             ],
             [
              0.2222222222222222,
              "#7201a8"
             ],
             [
              0.3333333333333333,
              "#9c179e"
             ],
             [
              0.4444444444444444,
              "#bd3786"
             ],
             [
              0.5555555555555556,
              "#d8576b"
             ],
             [
              0.6666666666666666,
              "#ed7953"
             ],
             [
              0.7777777777777778,
              "#fb9f3a"
             ],
             [
              0.8888888888888888,
              "#fdca26"
             ],
             [
              1,
              "#f0f921"
             ]
            ],
            "type": "surface"
           }
          ],
          "table": [
           {
            "cells": {
             "fill": {
              "color": "#506784"
             },
             "line": {
              "color": "rgb(17,17,17)"
             }
            },
            "header": {
             "fill": {
              "color": "#2a3f5f"
             },
             "line": {
              "color": "rgb(17,17,17)"
             }
            },
            "type": "table"
           }
          ]
         },
         "layout": {
          "annotationdefaults": {
           "arrowcolor": "#f2f5fa",
           "arrowhead": 0,
           "arrowwidth": 1
          },
          "autotypenumbers": "strict",
          "coloraxis": {
           "colorbar": {
            "outlinewidth": 0,
            "ticks": ""
           }
          },
          "colorscale": {
           "diverging": [
            [
             0,
             "#8e0152"
            ],
            [
             0.1,
             "#c51b7d"
            ],
            [
             0.2,
             "#de77ae"
            ],
            [
             0.3,
             "#f1b6da"
            ],
            [
             0.4,
             "#fde0ef"
            ],
            [
             0.5,
             "#f7f7f7"
            ],
            [
             0.6,
             "#e6f5d0"
            ],
            [
             0.7,
             "#b8e186"
            ],
            [
             0.8,
             "#7fbc41"
            ],
            [
             0.9,
             "#4d9221"
            ],
            [
             1,
             "#276419"
            ]
           ],
           "sequential": [
            [
             0,
             "#0d0887"
            ],
            [
             0.1111111111111111,
             "#46039f"
            ],
            [
             0.2222222222222222,
             "#7201a8"
            ],
            [
             0.3333333333333333,
             "#9c179e"
            ],
            [
             0.4444444444444444,
             "#bd3786"
            ],
            [
             0.5555555555555556,
             "#d8576b"
            ],
            [
             0.6666666666666666,
             "#ed7953"
            ],
            [
             0.7777777777777778,
             "#fb9f3a"
            ],
            [
             0.8888888888888888,
             "#fdca26"
            ],
            [
             1,
             "#f0f921"
            ]
           ],
           "sequentialminus": [
            [
             0,
             "#0d0887"
            ],
            [
             0.1111111111111111,
             "#46039f"
            ],
            [
             0.2222222222222222,
             "#7201a8"
            ],
            [
             0.3333333333333333,
             "#9c179e"
            ],
            [
             0.4444444444444444,
             "#bd3786"
            ],
            [
             0.5555555555555556,
             "#d8576b"
            ],
            [
             0.6666666666666666,
             "#ed7953"
            ],
            [
             0.7777777777777778,
             "#fb9f3a"
            ],
            [
             0.8888888888888888,
             "#fdca26"
            ],
            [
             1,
             "#f0f921"
            ]
           ]
          },
          "colorway": [
           "#636efa",
           "#EF553B",
           "#00cc96",
           "#ab63fa",
           "#FFA15A",
           "#19d3f3",
           "#FF6692",
           "#B6E880",
           "#FF97FF",
           "#FECB52"
          ],
          "font": {
           "color": "#f2f5fa"
          },
          "geo": {
           "bgcolor": "rgb(17,17,17)",
           "lakecolor": "rgb(17,17,17)",
           "landcolor": "rgb(17,17,17)",
           "showlakes": true,
           "showland": true,
           "subunitcolor": "#506784"
          },
          "hoverlabel": {
           "align": "left"
          },
          "hovermode": "closest",
          "mapbox": {
           "style": "dark"
          },
          "paper_bgcolor": "rgb(17,17,17)",
          "plot_bgcolor": "rgb(17,17,17)",
          "polar": {
           "angularaxis": {
            "gridcolor": "#506784",
            "linecolor": "#506784",
            "ticks": ""
           },
           "bgcolor": "rgb(17,17,17)",
           "radialaxis": {
            "gridcolor": "#506784",
            "linecolor": "#506784",
            "ticks": ""
           }
          },
          "scene": {
           "xaxis": {
            "backgroundcolor": "rgb(17,17,17)",
            "gridcolor": "#506784",
            "gridwidth": 2,
            "linecolor": "#506784",
            "showbackground": true,
            "ticks": "",
            "zerolinecolor": "#C8D4E3"
           },
           "yaxis": {
            "backgroundcolor": "rgb(17,17,17)",
            "gridcolor": "#506784",
            "gridwidth": 2,
            "linecolor": "#506784",
            "showbackground": true,
            "ticks": "",
            "zerolinecolor": "#C8D4E3"
           },
           "zaxis": {
            "backgroundcolor": "rgb(17,17,17)",
            "gridcolor": "#506784",
            "gridwidth": 2,
            "linecolor": "#506784",
            "showbackground": true,
            "ticks": "",
            "zerolinecolor": "#C8D4E3"
           }
          },
          "shapedefaults": {
           "line": {
            "color": "#f2f5fa"
           }
          },
          "sliderdefaults": {
           "bgcolor": "#C8D4E3",
           "bordercolor": "rgb(17,17,17)",
           "borderwidth": 1,
           "tickwidth": 0
          },
          "ternary": {
           "aaxis": {
            "gridcolor": "#506784",
            "linecolor": "#506784",
            "ticks": ""
           },
           "baxis": {
            "gridcolor": "#506784",
            "linecolor": "#506784",
            "ticks": ""
           },
           "bgcolor": "rgb(17,17,17)",
           "caxis": {
            "gridcolor": "#506784",
            "linecolor": "#506784",
            "ticks": ""
           }
          },
          "title": {
           "x": 0.05
          },
          "updatemenudefaults": {
           "bgcolor": "#506784",
           "borderwidth": 0
          },
          "xaxis": {
           "automargin": true,
           "gridcolor": "#283442",
           "linecolor": "#506784",
           "ticks": "",
           "title": {
            "standoff": 15
           },
           "zerolinecolor": "#283442",
           "zerolinewidth": 2
          },
          "yaxis": {
           "automargin": true,
           "gridcolor": "#283442",
           "linecolor": "#506784",
           "ticks": "",
           "title": {
            "standoff": 15
           },
           "zerolinecolor": "#283442",
           "zerolinewidth": 2
          }
         }
        },
        "xaxis": {
         "anchor": "y",
         "domain": [
          0,
          1
         ],
         "title": {
          "text": "index"
         }
        },
        "yaxis": {
         "anchor": "x",
         "domain": [
          0,
          1
         ],
         "title": {
          "text": "# comments"
         }
        },
        "legend": {
         "tracegroupgap": 0
        },
        "title": {
         "text": "Subreddits with most submissions having the term covid in the last 48h"
        },
        "barmode": "relative",
        "height": 500,
        "width": 800
       },
       "config": {
        "plotlyServerURL": "https://plot.ly"
       }
      }
     },
     "metadata": {}
    }
   ],
   "source": [
    "data = get_reddit_data(data_type=\"submission\",\n",
    "                          q=\"covid\",\n",
    "                          after=\"48h\",\n",
    "                          size=1000,\n",
    "                          aggs=\"subreddit\").get(\"data\")\n",
    "df = pandas.DataFrame(data)\n",
    "df_plt= df[\"subreddit\"].value_counts()[0:10]\n",
    "x = df_plt.keys() \n",
    "y = df_plt.values \n",
    "px.bar(df_plt,\n",
    "       x=x,\n",
    "       y=y,\n",
    "       template=\"plotly_dark\",\n",
    "       title= f\"Subreddits with most submissions having the term covid in the last 48h\",\n",
    "       labels={\"x\": \"Subreddits\", \"y\": \"# comments\"},\n",
    "       color_discrete_sequence=[COMMENT_COLOR],\n",
    "       height=500,\n",
    "       width=800)"
   ]
  },
  {
   "cell_type": "code",
   "execution_count": 35,
   "metadata": {},
   "outputs": [
    {
     "output_type": "display_data",
     "data": {
      "application/vnd.plotly.v1+json": {
       "data": [
        {
         "alignmentgroup": "True",
         "hovertemplate": "index=%{x}<br># comments=%{y}<extra></extra>",
         "legendgroup": "",
         "marker": {
          "color": "blueviolet",
          "pattern": {
           "shape": ""
          }
         },
         "name": "",
         "offsetgroup": "",
         "orientation": "v",
         "showlegend": false,
         "textposition": "auto",
         "x": [
          "news_italia",
          "conspiracy",
          "ChunghwaMinkuo",
          "TrueOffMyChest",
          "Coronavirus",
          "cofounder",
          "intj",
          "SickOfUSPolitics",
          "coronavirusVA",
          "ravens"
         ],
         "xaxis": "x",
         "y": [
          3,
          2,
          2,
          2,
          2,
          1,
          1,
          1,
          1,
          1
         ],
         "yaxis": "y",
         "type": "bar"
        }
       ],
       "layout": {
        "template": {
         "data": {
          "barpolar": [
           {
            "marker": {
             "line": {
              "color": "rgb(17,17,17)",
              "width": 0.5
             },
             "pattern": {
              "fillmode": "overlay",
              "size": 10,
              "solidity": 0.2
             }
            },
            "type": "barpolar"
           }
          ],
          "bar": [
           {
            "error_x": {
             "color": "#f2f5fa"
            },
            "error_y": {
             "color": "#f2f5fa"
            },
            "marker": {
             "line": {
              "color": "rgb(17,17,17)",
              "width": 0.5
             },
             "pattern": {
              "fillmode": "overlay",
              "size": 10,
              "solidity": 0.2
             }
            },
            "type": "bar"
           }
          ],
          "carpet": [
           {
            "aaxis": {
             "endlinecolor": "#A2B1C6",
             "gridcolor": "#506784",
             "linecolor": "#506784",
             "minorgridcolor": "#506784",
             "startlinecolor": "#A2B1C6"
            },
            "baxis": {
             "endlinecolor": "#A2B1C6",
             "gridcolor": "#506784",
             "linecolor": "#506784",
             "minorgridcolor": "#506784",
             "startlinecolor": "#A2B1C6"
            },
            "type": "carpet"
           }
          ],
          "choropleth": [
           {
            "colorbar": {
             "outlinewidth": 0,
             "ticks": ""
            },
            "type": "choropleth"
           }
          ],
          "contourcarpet": [
           {
            "colorbar": {
             "outlinewidth": 0,
             "ticks": ""
            },
            "type": "contourcarpet"
           }
          ],
          "contour": [
           {
            "colorbar": {
             "outlinewidth": 0,
             "ticks": ""
            },
            "colorscale": [
             [
              0,
              "#0d0887"
             ],
             [
              0.1111111111111111,
              "#46039f"
             ],
             [
              0.2222222222222222,
              "#7201a8"
             ],
             [
              0.3333333333333333,
              "#9c179e"
             ],
             [
              0.4444444444444444,
              "#bd3786"
             ],
             [
              0.5555555555555556,
              "#d8576b"
             ],
             [
              0.6666666666666666,
              "#ed7953"
             ],
             [
              0.7777777777777778,
              "#fb9f3a"
             ],
             [
              0.8888888888888888,
              "#fdca26"
             ],
             [
              1,
              "#f0f921"
             ]
            ],
            "type": "contour"
           }
          ],
          "heatmapgl": [
           {
            "colorbar": {
             "outlinewidth": 0,
             "ticks": ""
            },
            "colorscale": [
             [
              0,
              "#0d0887"
             ],
             [
              0.1111111111111111,
              "#46039f"
             ],
             [
              0.2222222222222222,
              "#7201a8"
             ],
             [
              0.3333333333333333,
              "#9c179e"
             ],
             [
              0.4444444444444444,
              "#bd3786"
             ],
             [
              0.5555555555555556,
              "#d8576b"
             ],
             [
              0.6666666666666666,
              "#ed7953"
             ],
             [
              0.7777777777777778,
              "#fb9f3a"
             ],
             [
              0.8888888888888888,
              "#fdca26"
             ],
             [
              1,
              "#f0f921"
             ]
            ],
            "type": "heatmapgl"
           }
          ],
          "heatmap": [
           {
            "colorbar": {
             "outlinewidth": 0,
             "ticks": ""
            },
            "colorscale": [
             [
              0,
              "#0d0887"
             ],
             [
              0.1111111111111111,
              "#46039f"
             ],
             [
              0.2222222222222222,
              "#7201a8"
             ],
             [
              0.3333333333333333,
              "#9c179e"
             ],
             [
              0.4444444444444444,
              "#bd3786"
             ],
             [
              0.5555555555555556,
              "#d8576b"
             ],
             [
              0.6666666666666666,
              "#ed7953"
             ],
             [
              0.7777777777777778,
              "#fb9f3a"
             ],
             [
              0.8888888888888888,
              "#fdca26"
             ],
             [
              1,
              "#f0f921"
             ]
            ],
            "type": "heatmap"
           }
          ],
          "histogram2dcontour": [
           {
            "colorbar": {
             "outlinewidth": 0,
             "ticks": ""
            },
            "colorscale": [
             [
              0,
              "#0d0887"
             ],
             [
              0.1111111111111111,
              "#46039f"
             ],
             [
              0.2222222222222222,
              "#7201a8"
             ],
             [
              0.3333333333333333,
              "#9c179e"
             ],
             [
              0.4444444444444444,
              "#bd3786"
             ],
             [
              0.5555555555555556,
              "#d8576b"
             ],
             [
              0.6666666666666666,
              "#ed7953"
             ],
             [
              0.7777777777777778,
              "#fb9f3a"
             ],
             [
              0.8888888888888888,
              "#fdca26"
             ],
             [
              1,
              "#f0f921"
             ]
            ],
            "type": "histogram2dcontour"
           }
          ],
          "histogram2d": [
           {
            "colorbar": {
             "outlinewidth": 0,
             "ticks": ""
            },
            "colorscale": [
             [
              0,
              "#0d0887"
             ],
             [
              0.1111111111111111,
              "#46039f"
             ],
             [
              0.2222222222222222,
              "#7201a8"
             ],
             [
              0.3333333333333333,
              "#9c179e"
             ],
             [
              0.4444444444444444,
              "#bd3786"
             ],
             [
              0.5555555555555556,
              "#d8576b"
             ],
             [
              0.6666666666666666,
              "#ed7953"
             ],
             [
              0.7777777777777778,
              "#fb9f3a"
             ],
             [
              0.8888888888888888,
              "#fdca26"
             ],
             [
              1,
              "#f0f921"
             ]
            ],
            "type": "histogram2d"
           }
          ],
          "histogram": [
           {
            "marker": {
             "pattern": {
              "fillmode": "overlay",
              "size": 10,
              "solidity": 0.2
             }
            },
            "type": "histogram"
           }
          ],
          "mesh3d": [
           {
            "colorbar": {
             "outlinewidth": 0,
             "ticks": ""
            },
            "type": "mesh3d"
           }
          ],
          "parcoords": [
           {
            "line": {
             "colorbar": {
              "outlinewidth": 0,
              "ticks": ""
             }
            },
            "type": "parcoords"
           }
          ],
          "pie": [
           {
            "automargin": true,
            "type": "pie"
           }
          ],
          "scatter3d": [
           {
            "line": {
             "colorbar": {
              "outlinewidth": 0,
              "ticks": ""
             }
            },
            "marker": {
             "colorbar": {
              "outlinewidth": 0,
              "ticks": ""
             }
            },
            "type": "scatter3d"
           }
          ],
          "scattercarpet": [
           {
            "marker": {
             "colorbar": {
              "outlinewidth": 0,
              "ticks": ""
             }
            },
            "type": "scattercarpet"
           }
          ],
          "scattergeo": [
           {
            "marker": {
             "colorbar": {
              "outlinewidth": 0,
              "ticks": ""
             }
            },
            "type": "scattergeo"
           }
          ],
          "scattergl": [
           {
            "marker": {
             "line": {
              "color": "#283442"
             }
            },
            "type": "scattergl"
           }
          ],
          "scattermapbox": [
           {
            "marker": {
             "colorbar": {
              "outlinewidth": 0,
              "ticks": ""
             }
            },
            "type": "scattermapbox"
           }
          ],
          "scatterpolargl": [
           {
            "marker": {
             "colorbar": {
              "outlinewidth": 0,
              "ticks": ""
             }
            },
            "type": "scatterpolargl"
           }
          ],
          "scatterpolar": [
           {
            "marker": {
             "colorbar": {
              "outlinewidth": 0,
              "ticks": ""
             }
            },
            "type": "scatterpolar"
           }
          ],
          "scatter": [
           {
            "marker": {
             "line": {
              "color": "#283442"
             }
            },
            "type": "scatter"
           }
          ],
          "scatterternary": [
           {
            "marker": {
             "colorbar": {
              "outlinewidth": 0,
              "ticks": ""
             }
            },
            "type": "scatterternary"
           }
          ],
          "surface": [
           {
            "colorbar": {
             "outlinewidth": 0,
             "ticks": ""
            },
            "colorscale": [
             [
              0,
              "#0d0887"
             ],
             [
              0.1111111111111111,
              "#46039f"
             ],
             [
              0.2222222222222222,
              "#7201a8"
             ],
             [
              0.3333333333333333,
              "#9c179e"
             ],
             [
              0.4444444444444444,
              "#bd3786"
             ],
             [
              0.5555555555555556,
              "#d8576b"
             ],
             [
              0.6666666666666666,
              "#ed7953"
             ],
             [
              0.7777777777777778,
              "#fb9f3a"
             ],
             [
              0.8888888888888888,
              "#fdca26"
             ],
             [
              1,
              "#f0f921"
             ]
            ],
            "type": "surface"
           }
          ],
          "table": [
           {
            "cells": {
             "fill": {
              "color": "#506784"
             },
             "line": {
              "color": "rgb(17,17,17)"
             }
            },
            "header": {
             "fill": {
              "color": "#2a3f5f"
             },
             "line": {
              "color": "rgb(17,17,17)"
             }
            },
            "type": "table"
           }
          ]
         },
         "layout": {
          "annotationdefaults": {
           "arrowcolor": "#f2f5fa",
           "arrowhead": 0,
           "arrowwidth": 1
          },
          "autotypenumbers": "strict",
          "coloraxis": {
           "colorbar": {
            "outlinewidth": 0,
            "ticks": ""
           }
          },
          "colorscale": {
           "diverging": [
            [
             0,
             "#8e0152"
            ],
            [
             0.1,
             "#c51b7d"
            ],
            [
             0.2,
             "#de77ae"
            ],
            [
             0.3,
             "#f1b6da"
            ],
            [
             0.4,
             "#fde0ef"
            ],
            [
             0.5,
             "#f7f7f7"
            ],
            [
             0.6,
             "#e6f5d0"
            ],
            [
             0.7,
             "#b8e186"
            ],
            [
             0.8,
             "#7fbc41"
            ],
            [
             0.9,
             "#4d9221"
            ],
            [
             1,
             "#276419"
            ]
           ],
           "sequential": [
            [
             0,
             "#0d0887"
            ],
            [
             0.1111111111111111,
             "#46039f"
            ],
            [
             0.2222222222222222,
             "#7201a8"
            ],
            [
             0.3333333333333333,
             "#9c179e"
            ],
            [
             0.4444444444444444,
             "#bd3786"
            ],
            [
             0.5555555555555556,
             "#d8576b"
            ],
            [
             0.6666666666666666,
             "#ed7953"
            ],
            [
             0.7777777777777778,
             "#fb9f3a"
            ],
            [
             0.8888888888888888,
             "#fdca26"
            ],
            [
             1,
             "#f0f921"
            ]
           ],
           "sequentialminus": [
            [
             0,
             "#0d0887"
            ],
            [
             0.1111111111111111,
             "#46039f"
            ],
            [
             0.2222222222222222,
             "#7201a8"
            ],
            [
             0.3333333333333333,
             "#9c179e"
            ],
            [
             0.4444444444444444,
             "#bd3786"
            ],
            [
             0.5555555555555556,
             "#d8576b"
            ],
            [
             0.6666666666666666,
             "#ed7953"
            ],
            [
             0.7777777777777778,
             "#fb9f3a"
            ],
            [
             0.8888888888888888,
             "#fdca26"
            ],
            [
             1,
             "#f0f921"
            ]
           ]
          },
          "colorway": [
           "#636efa",
           "#EF553B",
           "#00cc96",
           "#ab63fa",
           "#FFA15A",
           "#19d3f3",
           "#FF6692",
           "#B6E880",
           "#FF97FF",
           "#FECB52"
          ],
          "font": {
           "color": "#f2f5fa"
          },
          "geo": {
           "bgcolor": "rgb(17,17,17)",
           "lakecolor": "rgb(17,17,17)",
           "landcolor": "rgb(17,17,17)",
           "showlakes": true,
           "showland": true,
           "subunitcolor": "#506784"
          },
          "hoverlabel": {
           "align": "left"
          },
          "hovermode": "closest",
          "mapbox": {
           "style": "dark"
          },
          "paper_bgcolor": "rgb(17,17,17)",
          "plot_bgcolor": "rgb(17,17,17)",
          "polar": {
           "angularaxis": {
            "gridcolor": "#506784",
            "linecolor": "#506784",
            "ticks": ""
           },
           "bgcolor": "rgb(17,17,17)",
           "radialaxis": {
            "gridcolor": "#506784",
            "linecolor": "#506784",
            "ticks": ""
           }
          },
          "scene": {
           "xaxis": {
            "backgroundcolor": "rgb(17,17,17)",
            "gridcolor": "#506784",
            "gridwidth": 2,
            "linecolor": "#506784",
            "showbackground": true,
            "ticks": "",
            "zerolinecolor": "#C8D4E3"
           },
           "yaxis": {
            "backgroundcolor": "rgb(17,17,17)",
            "gridcolor": "#506784",
            "gridwidth": 2,
            "linecolor": "#506784",
            "showbackground": true,
            "ticks": "",
            "zerolinecolor": "#C8D4E3"
           },
           "zaxis": {
            "backgroundcolor": "rgb(17,17,17)",
            "gridcolor": "#506784",
            "gridwidth": 2,
            "linecolor": "#506784",
            "showbackground": true,
            "ticks": "",
            "zerolinecolor": "#C8D4E3"
           }
          },
          "shapedefaults": {
           "line": {
            "color": "#f2f5fa"
           }
          },
          "sliderdefaults": {
           "bgcolor": "#C8D4E3",
           "bordercolor": "rgb(17,17,17)",
           "borderwidth": 1,
           "tickwidth": 0
          },
          "ternary": {
           "aaxis": {
            "gridcolor": "#506784",
            "linecolor": "#506784",
            "ticks": ""
           },
           "baxis": {
            "gridcolor": "#506784",
            "linecolor": "#506784",
            "ticks": ""
           },
           "bgcolor": "rgb(17,17,17)",
           "caxis": {
            "gridcolor": "#506784",
            "linecolor": "#506784",
            "ticks": ""
           }
          },
          "title": {
           "x": 0.05
          },
          "updatemenudefaults": {
           "bgcolor": "#506784",
           "borderwidth": 0
          },
          "xaxis": {
           "automargin": true,
           "gridcolor": "#283442",
           "linecolor": "#506784",
           "ticks": "",
           "title": {
            "standoff": 15
           },
           "zerolinecolor": "#283442",
           "zerolinewidth": 2
          },
          "yaxis": {
           "automargin": true,
           "gridcolor": "#283442",
           "linecolor": "#506784",
           "ticks": "",
           "title": {
            "standoff": 15
           },
           "zerolinecolor": "#283442",
           "zerolinewidth": 2
          }
         }
        },
        "xaxis": {
         "anchor": "y",
         "domain": [
          0,
          1
         ],
         "title": {
          "text": "index"
         }
        },
        "yaxis": {
         "anchor": "x",
         "domain": [
          0,
          1
         ],
         "title": {
          "text": "# comments"
         }
        },
        "legend": {
         "tracegroupgap": 0
        },
        "title": {
         "text": "Subreddits with most comments having the term covid in the last 48h"
        },
        "barmode": "relative",
        "height": 500,
        "width": 800
       },
       "config": {
        "plotlyServerURL": "https://plot.ly"
       }
      }
     },
     "metadata": {}
    }
   ],
   "source": [
    "df_plt= df[\"subreddit\"].value_counts()[0:10] #top 10 subreddits and their counts\n",
    "x = df_plt.keys() #subreddits\n",
    "y = df_plt.values #counts\n",
    "px.bar(df_plt,\n",
    "       x=x,\n",
    "       y=y,\n",
    "       template=\"plotly_dark\",\n",
    "       title=f\"Subreddits with most comments having the term covid in the last 48h\",\n",
    "       labels={\"x\": \"Subreddits\", \"y\": \"# comments\"},\n",
    "       color_discrete_sequence=[COMMENT_COLOR],\n",
    "       height=500,\n",
    "       width=800)\n",
    "\n"
   ]
  },
  {
   "source": [
    "## Comments Overview"
   ],
   "cell_type": "markdown",
   "metadata": {}
  },
  {
   "cell_type": "code",
   "execution_count": 36,
   "metadata": {},
   "outputs": [
    {
     "output_type": "stream",
     "name": "stdout",
     "text": [
      "\nTop 10 most upvoted comments having term covid in the last 48 hours\n\n"
     ]
    },
    {
     "output_type": "execute_result",
     "data": {
      "text/plain": [
       "<pandas.io.formats.style.Styler at 0x28932db7be0>"
      ],
      "text/html": "<style type=\"text/css\">\n</style>\n<table id=\"T_5dcb3_\">\n  <thead>\n    <tr>\n      <th class=\"blank level0\" >&nbsp;</th>\n      <th class=\"col_heading level0 col0\" >author</th>\n      <th class=\"col_heading level0 col1\" >subreddit</th>\n      <th class=\"col_heading level0 col2\" >score</th>\n      <th class=\"col_heading level0 col3\" >body</th>\n      <th class=\"col_heading level0 col4\" >permalink</th>\n    </tr>\n  </thead>\n  <tbody>\n    <tr>\n      <th id=\"T_5dcb3_level0_row0\" class=\"row_heading level0 row0\" >0</th>\n      <td id=\"T_5dcb3_row0_col0\" class=\"data row0 col0\" >GonzoPunchi</td>\n      <td id=\"T_5dcb3_row0_col1\" class=\"data row0 col1\" >kpop</td>\n      <td id=\"T_5dcb3_row0_col2\" class=\"data row0 col2\" >7</td>\n      <td id=\"T_5dcb3_row0_col3\" class=\"data row0 col3\" >people forget how fun award shows are, its just covid ruining it...</td>\n      <td id=\"T_5dcb3_row0_col4\" class=\"data row0 col4\" ><a href=\"https://reddit.com/r/kpop/comments/rdt34j/mnet_asian_music_awards_2021_mama_2021_discussion/ho3vy2r/\">Link</a></td>\n    </tr>\n    <tr>\n      <th id=\"T_5dcb3_level0_row1\" class=\"row_heading level0 row1\" >1</th>\n      <td id=\"T_5dcb3_row1_col0\" class=\"data row1 col0\" >Just-an-MP</td>\n      <td id=\"T_5dcb3_row1_col1\" class=\"data row1 col1\" >PoliticalCompassMemes</td>\n      <td id=\"T_5dcb3_row1_col2\" class=\"data row1 col2\" >2</td>\n      <td id=\"T_5dcb3_row1_col3\" class=\"data row1 col3\" >COVID is more of a state of mind. One day we’ll realize the real COVID was inside us all along. Wait...</td>\n      <td id=\"T_5dcb3_row1_col4\" class=\"data row1 col4\" ><a href=\"https://reddit.com/r/PoliticalCompassMemes/comments/re9e28/democracy_good/ho77cpt/\">Link</a></td>\n    </tr>\n    <tr>\n      <th id=\"T_5dcb3_level0_row2\" class=\"row_heading level0 row2\" >2</th>\n      <td id=\"T_5dcb3_row2_col0\" class=\"data row2 col0\" >dvusMynd</td>\n      <td id=\"T_5dcb3_row2_col1\" class=\"data row2 col1\" >GavinNewsomAward</td>\n      <td id=\"T_5dcb3_row2_col2\" class=\"data row2 col2\" >2</td>\n      <td id=\"T_5dcb3_row2_col3\" class=\"data row2 col3\" >Wtf!? How can anyone watch this shit and think it’s totally ok to have no end point with boosters. T...</td>\n      <td id=\"T_5dcb3_row2_col4\" class=\"data row2 col4\" ><a href=\"https://reddit.com/r/GavinNewsomAward/comments/rek7us/new_zealand_pm_jacinda_ardern_theres_not_going_to/ho83ml5/\">Link</a></td>\n    </tr>\n    <tr>\n      <th id=\"T_5dcb3_level0_row3\" class=\"row_heading level0 row3\" >3</th>\n      <td id=\"T_5dcb3_row3_col0\" class=\"data row3 col0\" >Kiramiraa</td>\n      <td id=\"T_5dcb3_row3_col1\" class=\"data row3 col1\" >kpop</td>\n      <td id=\"T_5dcb3_row3_col2\" class=\"data row3 col2\" >2</td>\n      <td id=\"T_5dcb3_row3_col3\" class=\"data row3 col3\" >yeah it's probably not the best idea to get a whole bunch of members from the most popular groups to...</td>\n      <td id=\"T_5dcb3_row3_col4\" class=\"data row3 col4\" ><a href=\"https://reddit.com/r/kpop/comments/rdt34j/mnet_asian_music_awards_2021_mama_2021_discussion/ho3qm6m/\">Link</a></td>\n    </tr>\n    <tr>\n      <th id=\"T_5dcb3_level0_row4\" class=\"row_heading level0 row4\" >4</th>\n      <td id=\"T_5dcb3_row4_col0\" class=\"data row4 col0\" >archfeybaby</td>\n      <td id=\"T_5dcb3_row4_col1\" class=\"data row4 col1\" >straykids</td>\n      <td id=\"T_5dcb3_row4_col2\" class=\"data row4 col2\" >2</td>\n      <td id=\"T_5dcb3_row4_col3\" class=\"data row4 col3\" >they are there, but they can't scream bc of covid regulations...</td>\n      <td id=\"T_5dcb3_row4_col4\" class=\"data row4 col4\" ><a href=\"https://reddit.com/r/straykids/comments/rdttvb/211211_2021_mama_mnet_asian_music_awards_live/ho3okza/\">Link</a></td>\n    </tr>\n    <tr>\n      <th id=\"T_5dcb3_level0_row5\" class=\"row_heading level0 row5\" >5</th>\n      <td id=\"T_5dcb3_row5_col0\" class=\"data row5 col0\" >MmaOverSportsball</td>\n      <td id=\"T_5dcb3_row5_col1\" class=\"data row5 col1\" >MMA</td>\n      <td id=\"T_5dcb3_row5_col2\" class=\"data row5 col2\" >2</td>\n      <td id=\"T_5dcb3_row5_col3\" class=\"data row5 col3\" >Post covid nunes...</td>\n      <td id=\"T_5dcb3_row5_col4\" class=\"data row5 col4\" ><a href=\"https://reddit.com/r/MMA/comments/reb48y/official_ufc_269_oliveira_vs_poirier_live/ho7mvuu/\">Link</a></td>\n    </tr>\n    <tr>\n      <th id=\"T_5dcb3_level0_row6\" class=\"row_heading level0 row6\" >6</th>\n      <td id=\"T_5dcb3_row6_col0\" class=\"data row6 col0\" >Tiptip4me</td>\n      <td id=\"T_5dcb3_row6_col1\" class=\"data row6 col1\" >doordash_drivers</td>\n      <td id=\"T_5dcb3_row6_col2\" class=\"data row6 col2\" >2</td>\n      <td id=\"T_5dcb3_row6_col3\" class=\"data row6 col3\" >Covid would be the least of your worries with that situation 😂 😂 💩...</td>\n      <td id=\"T_5dcb3_row6_col4\" class=\"data row6 col4\" ><a href=\"https://reddit.com/r/doordash_drivers/comments/re7l24/arrived_to_her_house_she_was_on_all_fours_in_her/ho6cekc/\">Link</a></td>\n    </tr>\n    <tr>\n      <th id=\"T_5dcb3_level0_row7\" class=\"row_heading level0 row7\" >7</th>\n      <td id=\"T_5dcb3_row7_col0\" class=\"data row7 col0\" >Rbfam8191</td>\n      <td id=\"T_5dcb3_row7_col1\" class=\"data row7 col1\" >nfl</td>\n      <td id=\"T_5dcb3_row7_col2\" class=\"data row7 col2\" >2</td>\n      <td id=\"T_5dcb3_row7_col3\" class=\"data row7 col3\" >Packers spreading Aaron's COVID Lambeau leaping...</td>\n      <td id=\"T_5dcb3_row7_col4\" class=\"data row7 col4\" ><a href=\"https://reddit.com/r/nfl/comments/rf2vaw/game_thread_chicago_bears_48_at_green_bay_packers/hobti4y/\">Link</a></td>\n    </tr>\n    <tr>\n      <th id=\"T_5dcb3_level0_row8\" class=\"row_heading level0 row8\" >8</th>\n      <td id=\"T_5dcb3_row8_col0\" class=\"data row8 col0\" >Aggressive-Toe9807</td>\n      <td id=\"T_5dcb3_row8_col1\" class=\"data row8 col1\" >CasualUK</td>\n      <td id=\"T_5dcb3_row8_col2\" class=\"data row8 col2\" >2</td>\n      <td id=\"T_5dcb3_row8_col3\" class=\"data row8 col3\" >The show really is just light hearted fluff but it’s always a nice form of escapism on these dark, w...</td>\n      <td id=\"T_5dcb3_row8_col4\" class=\"data row8 col4\" ><a href=\"https://reddit.com/r/CasualUK/comments/rexzuc/im_a_celeb_live_discussion_the_final_12122021/hoay3xo/\">Link</a></td>\n    </tr>\n    <tr>\n      <th id=\"T_5dcb3_level0_row9\" class=\"row_heading level0 row9\" >9</th>\n      <td id=\"T_5dcb3_row9_col0\" class=\"data row9 col0\" >BeMurlala</td>\n      <td id=\"T_5dcb3_row9_col1\" class=\"data row9 col1\" >houston</td>\n      <td id=\"T_5dcb3_row9_col2\" class=\"data row9 col2\" >2</td>\n      <td id=\"T_5dcb3_row9_col3\" class=\"data row9 col3\" >I just mentioned today while driving.. how did we go from Be Someone to Deadbaybees and Covid 1984.....</td>\n      <td id=\"T_5dcb3_row9_col4\" class=\"data row9 col4\" ><a href=\"https://reddit.com/r/houston/comments/rejfwp/can_we_talk_about_how_embarrassing_the_covid_1984/hoclqus/\">Link</a></td>\n    </tr>\n  </tbody>\n</table>\n"
     },
     "metadata": {},
     "execution_count": 36
    }
   ],
   "source": [
    "data = get_reddit_data(data_type=\"comment\", q=\"covid\", after=\"48h\", size=10, sort_type=\"score\", sort=\"desc\").get(\"data\")\n",
    "\n",
    "# retain only the relevant columns\n",
    "df = pandas.DataFrame(data)[[\"author\", \"subreddit\", \"score\", \"body\", \"permalink\"]]\n",
    "\n",
    "# we only keep the first 100 characters of the body \n",
    "df.body = df.body.str[0:100] + \"...\"\n",
    "\n",
    "# we append the string to all the permalink entries\n",
    "df.permalink = \"https://reddit.com\" + df.permalink.astype(str)\n",
    "print(f\"\\nTop 10 most upvoted comments having term covid in the last 48 hours\\n\")\n",
    "\n",
    "# style the last column to be clickable and print\n",
    "df.style.format({'permalink': make_clickable})"
   ]
  },
  {
   "source": [
    "## --"
   ],
   "cell_type": "markdown",
   "metadata": {}
  },
  {
   "cell_type": "code",
   "execution_count": 37,
   "metadata": {},
   "outputs": [
    {
     "output_type": "stream",
     "name": "stdout",
     "text": [
      "\nTop 10 most commented submissions having the term covid in the last 48 hours\n\n"
     ]
    },
    {
     "output_type": "execute_result",
     "data": {
      "text/plain": [
       "<pandas.io.formats.style.Styler at 0x28932261690>"
      ],
      "text/html": "<style type=\"text/css\">\n</style>\n<table id=\"T_726b8_\">\n  <thead>\n    <tr>\n      <th class=\"blank level0\" >&nbsp;</th>\n      <th class=\"col_heading level0 col0\" >author</th>\n      <th class=\"col_heading level0 col1\" >subreddit</th>\n      <th class=\"col_heading level0 col2\" >num_comments</th>\n      <th class=\"col_heading level0 col3\" >title</th>\n      <th class=\"col_heading level0 col4\" >permalink</th>\n    </tr>\n  </thead>\n  <tbody>\n    <tr>\n      <th id=\"T_726b8_level0_row0\" class=\"row_heading level0 row0\" >0</th>\n      <td id=\"T_726b8_row0_col0\" class=\"data row0 col0\" >transcribersofreddit</td>\n      <td id=\"T_726b8_row0_col1\" class=\"data row0 col1\" >TranscribersOfReddit</td>\n      <td id=\"T_726b8_row0_col2\" class=\"data row0 col2\" >3</td>\n      <td id=\"T_726b8_row0_col3\" class=\"data row0 col3\" >CasualUK | Image | \"I’m going to rock down (for my covid booster)\"</td>\n      <td id=\"T_726b8_row0_col4\" class=\"data row0 col4\" ><a href=\"https://reddit.com/r/TranscribersOfReddit/comments/re4u8v/casualuk_image_im_going_to_rock_down_for_my_covid/\">Link</a></td>\n    </tr>\n    <tr>\n      <th id=\"T_726b8_level0_row1\" class=\"row_heading level0 row1\" >1</th>\n      <td id=\"T_726b8_row1_col0\" class=\"data row1 col0\" >transcribersofreddit</td>\n      <td id=\"T_726b8_row1_col1\" class=\"data row1 col1\" >TranscribersOfReddit</td>\n      <td id=\"T_726b8_row1_col2\" class=\"data row1 col2\" >3</td>\n      <td id=\"T_726b8_row1_col3\" class=\"data row1 col3\" >britposting | Image | \"CoVID iS pOlitiCAL\"</td>\n      <td id=\"T_726b8_row1_col4\" class=\"data row1 col4\" ><a href=\"https://reddit.com/r/TranscribersOfReddit/comments/re33a9/britposting_image_covid_is_political/\">Link</a></td>\n    </tr>\n    <tr>\n      <th id=\"T_726b8_level0_row2\" class=\"row_heading level0 row2\" >2</th>\n      <td id=\"T_726b8_row2_col0\" class=\"data row2 col0\" >Insane212</td>\n      <td id=\"T_726b8_row2_col1\" class=\"data row2 col1\" >LegalAdviceUK</td>\n      <td id=\"T_726b8_row2_col2\" class=\"data row2 col2\" >3</td>\n      <td id=\"T_726b8_row2_col3\" class=\"data row2 col3\" >Can i drive with a french licence in the Uk if im banned?</td>\n      <td id=\"T_726b8_row2_col4\" class=\"data row2 col4\" ><a href=\"https://reddit.com/r/LegalAdviceUK/comments/rek5q5/can_i_drive_with_a_french_licence_in_the_uk_if_im/\">Link</a></td>\n    </tr>\n    <tr>\n      <th id=\"T_726b8_level0_row3\" class=\"row_heading level0 row3\" >3</th>\n      <td id=\"T_726b8_row3_col0\" class=\"data row3 col0\" >P4TR10T_03</td>\n      <td id=\"T_726b8_row3_col1\" class=\"data row3 col1\" >CanadaPolitics</td>\n      <td id=\"T_726b8_row3_col2\" class=\"data row3 col2\" >2</td>\n      <td id=\"T_726b8_row3_col3\" class=\"data row3 col3\" >Ontario set to announce stronger COVID-19 measures for proof of vaccination</td>\n      <td id=\"T_726b8_row3_col4\" class=\"data row3 col4\" ><a href=\"https://reddit.com/r/CanadaPolitics/comments/rdxjzp/ontario_set_to_announce_stronger_covid19_measures/\">Link</a></td>\n    </tr>\n    <tr>\n      <th id=\"T_726b8_level0_row4\" class=\"row_heading level0 row4\" >4</th>\n      <td id=\"T_726b8_row4_col0\" class=\"data row4 col0\" >doublefirstname</td>\n      <td id=\"T_726b8_row4_col1\" class=\"data row4 col1\" >LockdownSkepticism</td>\n      <td id=\"T_726b8_row4_col2\" class=\"data row4 col2\" >2</td>\n      <td id=\"T_726b8_row4_col3\" class=\"data row4 col3\" >The Big Pivot: Merck Falters on Covid-19 Vaccine, Then Makes One for Rival J&amp;J (Wall Street Journal, 12/11/2021)</td>\n      <td id=\"T_726b8_row4_col4\" class=\"data row4 col4\" ><a href=\"https://reddit.com/r/LockdownSkepticism/comments/re6dwi/the_big_pivot_merck_falters_on_covid19_vaccine/\">Link</a></td>\n    </tr>\n    <tr>\n      <th id=\"T_726b8_level0_row5\" class=\"row_heading level0 row5\" >5</th>\n      <td id=\"T_726b8_row5_col0\" class=\"data row5 col0\" >recipe881</td>\n      <td id=\"T_726b8_row5_col1\" class=\"data row5 col1\" >LockdownSkepticism</td>\n      <td id=\"T_726b8_row5_col2\" class=\"data row5 col2\" >2</td>\n      <td id=\"T_726b8_row5_col3\" class=\"data row5 col3\" >FDA expands authorization for Pfizer’s Covid-19 booster to cover 16- and 17-year-olds</td>\n      <td id=\"T_726b8_row5_col4\" class=\"data row5 col4\" ><a href=\"https://reddit.com/r/LockdownSkepticism/comments/re50bn/fda_expands_authorization_for_pfizers_covid19/\">Link</a></td>\n    </tr>\n    <tr>\n      <th id=\"T_726b8_level0_row6\" class=\"row_heading level0 row6\" >6</th>\n      <td id=\"T_726b8_row6_col0\" class=\"data row6 col0\" >Topadmin77</td>\n      <td id=\"T_726b8_row6_col1\" class=\"data row6 col1\" >conspiracy</td>\n      <td id=\"T_726b8_row6_col2\" class=\"data row6 col2\" >2</td>\n      <td id=\"T_726b8_row6_col3\" class=\"data row6 col3\" >Dr. Robert Malone, inventor of the mRNA technology opposes Covid vaccines!</td>\n      <td id=\"T_726b8_row6_col4\" class=\"data row6 col4\" ><a href=\"https://reddit.com/r/conspiracy/comments/re4xpl/dr_robert_malone_inventor_of_the_mrna_technology/\">Link</a></td>\n    </tr>\n    <tr>\n      <th id=\"T_726b8_level0_row7\" class=\"row_heading level0 row7\" >7</th>\n      <td id=\"T_726b8_row7_col0\" class=\"data row7 col0\" >BBJackie</td>\n      <td id=\"T_726b8_row7_col1\" class=\"data row7 col1\" >conspiracy</td>\n      <td id=\"T_726b8_row7_col2\" class=\"data row7 col2\" >2</td>\n      <td id=\"T_726b8_row7_col3\" class=\"data row7 col3\" >Covid-19: Researcher blows the whistle on data integrity issues in Pfizer’s vaccine trial</td>\n      <td id=\"T_726b8_row7_col4\" class=\"data row7 col4\" ><a href=\"https://reddit.com/r/conspiracy/comments/re5k5t/covid19_researcher_blows_the_whistle_on_data/\">Link</a></td>\n    </tr>\n    <tr>\n      <th id=\"T_726b8_level0_row8\" class=\"row_heading level0 row8\" >8</th>\n      <td id=\"T_726b8_row8_col0\" class=\"data row8 col0\" >Pure_Film6680</td>\n      <td id=\"T_726b8_row8_col1\" class=\"data row8 col1\" >LegalAdviceUK</td>\n      <td id=\"T_726b8_row8_col2\" class=\"data row8 col2\" >2</td>\n      <td id=\"T_726b8_row8_col3\" class=\"data row8 col3\" >As a worker who is off with suspected covid-19, upon receiving my test result, do I need to share the resit with my manager as proof that I do in fact have the illness?</td>\n      <td id=\"T_726b8_row8_col4\" class=\"data row8 col4\" ><a href=\"https://reddit.com/r/LegalAdviceUK/comments/re0d9r/as_a_worker_who_is_off_with_suspected_covid19/\">Link</a></td>\n    </tr>\n    <tr>\n      <th id=\"T_726b8_level0_row9\" class=\"row_heading level0 row9\" >9</th>\n      <td id=\"T_726b8_row9_col0\" class=\"data row9 col0\" >allenbyNY</td>\n      <td id=\"T_726b8_row9_col1\" class=\"data row9 col1\" >conspiracy</td>\n      <td id=\"T_726b8_row9_col2\" class=\"data row9 col2\" >2</td>\n      <td id=\"T_726b8_row9_col3\" class=\"data row9 col3\" >BOMBSHELL: Harvard Study (Finally) Shows that mRNA Therapeutic Drugs do NOT slow the Spread of Covid-19</td>\n      <td id=\"T_726b8_row9_col4\" class=\"data row9 col4\" ><a href=\"https://reddit.com/r/conspiracy/comments/rdygan/bombshell_harvard_study_finally_shows_that_mrna/\">Link</a></td>\n    </tr>\n  </tbody>\n</table>\n"
     },
     "metadata": {},
     "execution_count": 37
    }
   ],
   "source": [
    "data = get_reddit_data(data_type=\"submission\", \n",
    "                        q=\"covid\", \n",
    "                        after=\"48h\", \n",
    "                        size=10, \n",
    "                        sort_type=\"num_comments\", \n",
    "                        sort=\"desc\").get(\"data\")\n",
    "\n",
    "# retain only the relevant columns\n",
    "df = pandas.DataFrame(data)[['author', 'subreddit', 'num_comments', 'title', 'permalink']]\n",
    "\n",
    "\n",
    "# we append the string to all the permalink entries\n",
    "df.permalink = \"https://reddit.com\" + df.permalink.astype(str)\n",
    "print(f\"\\nTop 10 most commented submissions having the term covid in the last 48 hours\\n\")\n",
    "\n",
    "# style the last column to be clickable and print\n",
    "df.style.format({'permalink': make_clickable})"
   ]
  }
 ]
}